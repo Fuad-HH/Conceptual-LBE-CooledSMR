{
 "cells": [
  {
   "cell_type": "markdown",
   "metadata": {},
   "source": [
    "# Create an Ultra-long-life Small Modular Reactor Model with OpenMC\n",
    "_The design recreated here is from [this paper](http://dx.doi.org/10.1016/j.anucene.2020.107390). This is an fast SMR with LBE coolant and U-Pu-Zr fuel._\n",
    "\n",
    "This notebook creates a **voxel plot** and a **slice** of the created reactor. \n",
    " \n",
    "---\n",
    "Note: The model may not completely represent the paper's one as the cladding fuel compostion and some other geometry considerations may not be represented here properly. So it is highly recommend to check everthing before using it."
   ]
  },
  {
   "cell_type": "markdown",
   "metadata": {},
   "source": [
    "### Add Necesssary Libraries\n",
    "* OpenMC\n",
    "* Matpltolib for inline plots"
   ]
  },
  {
   "cell_type": "code",
   "execution_count": 1,
   "metadata": {},
   "outputs": [],
   "source": [
    "# add the necessary libraries\n",
    "%matplotlib inline\n",
    "import openmc as mc\n",
    "#import numpy as np\n",
    "import matplotlib.pyplot as plt"
   ]
  },
  {
   "cell_type": "markdown",
   "metadata": {},
   "source": [
    "### Create Materials\n",
    "1. upz:     U-Pu-Zr for fuel material which is a mixture of\n",
    "    * Uranium\n",
    "    * Plutonium\n",
    "    * Zirconium\n",
    "2. lbe:     Lead-Bismuth Eutectic for Coolant\n",
    "3. steel:   15-15Ti Steel\n",
    "\n",
    "Note: Note the reference paper for material composition."
   ]
  },
  {
   "cell_type": "code",
   "execution_count": 2,
   "metadata": {},
   "outputs": [],
   "source": [
    "uranium = mc.Material(1, \"natural uranium\")\n",
    "uranium.add_nuclide('U238', 99.8, 'wo')\n",
    "uranium.add_nuclide('U235', 0.2, 'wo')\n",
    "uranium.add_nuclide('U234', 0.001, 'wo')\n",
    "uranium.deplete = True\n",
    "\n",
    "zirconium = mc.Material(2, \"zirconium\")\n",
    "zirconium.add_element('Zr',1,'wo')\n",
    "\n",
    "plutonium = mc.Material(3, \"plutonium\")\n",
    "plutonium.add_nuclide('Pu238', 3.18, 'wo')\n",
    "plutonium.add_nuclide('Pu239', 56.35, 'wo')\n",
    "plutonium.add_nuclide('Pu240', 26.6, 'wo')\n",
    "plutonium.add_nuclide('Pu241', 8.02, 'wo')\n",
    "plutonium.add_nuclide('Pu242', 5.83, 'wo')\n",
    "plutonium.deplete = True\n",
    "\n",
    "upz = mc.Material.mix_materials([uranium, plutonium, zirconium], [0.8, 0.1, 0.1], 'wo')\n",
    "upz.set_density('g/cc', 11.88)\n",
    "upz.temperature = 700"
   ]
  },
  {
   "cell_type": "code",
   "execution_count": 3,
   "metadata": {},
   "outputs": [],
   "source": [
    "lbe = mc.Material(5, \"lead-bismuth-eutectic\")\n",
    "\n",
    "lbe.add_element('Pb', 44.5, 'wo')\n",
    "lbe.add_element('Bi', 55.5, 'wo')\n",
    "\n",
    "lbe.set_density('g/cc', 10.3)\n",
    "lbe.temperature = 620.15"
   ]
  },
  {
   "cell_type": "code",
   "execution_count": 4,
   "metadata": {},
   "outputs": [],
   "source": [
    "steel = mc.Material(6, \"15-15Ti Steel\")\n",
    "\n",
    "steel.add_nuclide('C12', 0.090, 'wo')\n",
    "steel.add_nuclide('Mn55', 1.502, 'wo')\n",
    "steel.add_nuclide('Si28', 0.791, 'wo')\n",
    "steel.add_nuclide('P31', 0.041, 'wo')\n",
    "\n",
    "steel.add_element('Ti', 0.404, 'wo')\n",
    "steel.add_element('Cr', 14.392, 'wo')\n",
    "steel.add_element('Ni', 15.607, 'wo')\n",
    "steel.add_element('B', 0.007, 'wo')\n",
    "steel.add_element('Mo', 1.509, 'wo')\n",
    "\n",
    "steel.set_density('g/cc', 7.92)\n",
    "steel.temperature = 650"
   ]
  },
  {
   "cell_type": "code",
   "execution_count": 5,
   "metadata": {},
   "outputs": [],
   "source": [
    "mats = mc.Materials([upz, lbe, steel])\n",
    "mats.export_to_xml()"
   ]
  },
  {
   "cell_type": "markdown",
   "metadata": {},
   "source": [
    "### Create Geometry\n",
    "_This is a full core 3-D design with cylindrical fuel pin, hexagonal assembly lattice and the assemblies are also placed hexagonally in the core._  \n",
    "\n",
    "---"
   ]
  },
  {
   "cell_type": "markdown",
   "metadata": {},
   "source": [
    "**We are trying to reproduce this:**  \n",
    "<img src=\"https://raw.githubusercontent.com/Fuad-HH/Conceptual-LBE-CooledSMR/main/gaoFullCore.png\" width=600 height=600 />"
   ]
  },
  {
   "cell_type": "markdown",
   "metadata": {},
   "source": [
    "#### First Create the Surfaces\n",
    "Surfaces for:\n",
    "1. ac_top & ac_bottom: To limit in the z-direction.\n",
    "2. r_fuel: Cylinder for Outer Surface of Fuel\n",
    "3. r_clad: Cylinder for Outer Surface of Cladding  \n",
    "\n",
    "_There are 3 types of fuel pins with 3 different radii._"
   ]
  },
  {
   "cell_type": "code",
   "execution_count": 6,
   "metadata": {},
   "outputs": [],
   "source": [
    "ac_top = mc.ZPlane(z0=70, boundary_type='vacuum')\n",
    "ac_bottom = mc.ZPlane(z0=-70, boundary_type='vacuum')\n",
    "\n",
    "f_radii = [0.74, 0.76, 0.78]\n",
    "r_clad_radii = [0.77, 0.79, 0.81]\n",
    "\n",
    "r_fuel = [mc.ZCylinder(r=ra) for ra in f_radii]\n",
    "r_clad = [mc.ZCylinder(r=rc) for rc in r_clad_radii]"
   ]
  },
  {
   "cell_type": "markdown",
   "metadata": {},
   "source": [
    "#### Create Cells and Universes for Fuel, Clad and Coolant\n",
    "_Using list comprehension of Python to create multiple cells of varying sizes._"
   ]
  },
  {
   "cell_type": "code",
   "execution_count": 7,
   "metadata": {},
   "outputs": [],
   "source": [
    "fuel = [mc.Cell(fill=upz, region=-cyl & +ac_bottom & -ac_top) for cyl in r_fuel]\n",
    "clad = [mc.Cell(fill=steel, region=+f & -c & +ac_bottom & -ac_top) for f,c in zip(r_fuel,r_clad)]\n",
    "coolant = [mc.Cell(fill=lbe, region=+c & -ac_top & +ac_bottom) for c in r_clad]\n",
    "all_coolant_cell = mc.Cell(fill=lbe)"
   ]
  },
  {
   "cell_type": "code",
   "execution_count": 8,
   "metadata": {},
   "outputs": [],
   "source": [
    "pin_universe = [mc.Universe(cells=[fuel[i],clad[i],coolant[i]], name='pin_for_zone '+str(i+1)) for i in [0,1,2]]\n",
    "outer_universe = mc.Universe(cells=(all_coolant_cell,))\n",
    "#outer_universe_for_assembly = mc.Universe(cells=(mc.Cell(fill=lbe, region=mc.model.hexagonal_prism(edge_length=16))))"
   ]
  },
  {
   "cell_type": "markdown",
   "metadata": {},
   "source": [
    "### Create Fuel Assemblies with Fuel Pins of Varying Sizes\n",
    "_Hexagonal lattice with 5 concentric hexagonal rings with 61 fuel pins._"
   ]
  },
  {
   "cell_type": "code",
   "execution_count": 9,
   "metadata": {},
   "outputs": [],
   "source": [
    "lattice = [mc.HexLattice(name='assembly lattice:'+str(i+1)) for i in [0,1,2]]\n",
    "    "
   ]
  },
  {
   "cell_type": "code",
   "execution_count": 10,
   "metadata": {},
   "outputs": [],
   "source": [
    "for i in [0,1,2]:\n",
    "    lattice[i].center = (0., 0.)\n",
    "    lattice[i].pitch = (1.9, )\n",
    "    lattice[i].outer = outer_universe\n",
    "    lattice[i].orientation = 'x'\n",
    "    rings = [[pin_universe[i]]*cir for cir in [24, 18, 12, 6, 1]]\n",
    "    lattice[i].universes = rings"
   ]
  },
  {
   "cell_type": "code",
   "execution_count": 11,
   "metadata": {},
   "outputs": [],
   "source": [
    "assem_region = mc.model.hexagonal_prism( edge_length=11.5, orientation='x', boundary_type='transmission')\n",
    "assembly_cell = [mc.Cell(fill=lattice[i], region= assem_region & -ac_top & +ac_bottom) for i in [0,1,2]]\n",
    "#outer_assembly_cell = mc.Cell(fill=lbe, region=-ac_top & +ac_bottom)"
   ]
  },
  {
   "cell_type": "code",
   "execution_count": 12,
   "metadata": {},
   "outputs": [],
   "source": [
    "assembly_universe = [mc.Universe(cells=(assembly_cell[i],)) for i in [0, 1, 2]]"
   ]
  },
  {
   "cell_type": "markdown",
   "metadata": {},
   "source": [
    "#### Create the Core Lattice\n",
    "_The rings of assemblies are positioned manually as there are empty assembly positions as shown in the core design. There is also a ring of reflector._"
   ]
  },
  {
   "cell_type": "code",
   "execution_count": 13,
   "metadata": {},
   "outputs": [],
   "source": [
    "core_lat = mc.HexLattice(name='core_lattice_hex')\n",
    "\n",
    "core_lat.center = (0., 0.)\n",
    "core_lat.pitch = (16,)\n",
    "core_lat.outer = outer_universe\n"
   ]
  },
  {
   "cell_type": "code",
   "execution_count": 14,
   "metadata": {},
   "outputs": [],
   "source": [
    "# the rings are created manually to make sure that the universes are in the correct order\n",
    "reflective_ring = [outer_universe]*36\n",
    "ring1 = [assembly_universe[2]]*30\n",
    "\n",
    "ring2 = [assembly_universe[2]]*2 + [outer_universe] +\\\n",
    "    [assembly_universe[2]]*3 + [outer_universe] +\\\n",
    "    [assembly_universe[2]]*3 + [outer_universe] +\\\n",
    "    [assembly_universe[2]]*3 + [outer_universe] +\\\n",
    "    [assembly_universe[2]]*3 + [outer_universe] +\\\n",
    "    [assembly_universe[2]]*3 + [outer_universe] +\\\n",
    "    [assembly_universe[2]]\n",
    "\n",
    "ring3 = [assembly_universe[1]]*18\n",
    "\n",
    "ring4 = [outer_universe] + [assembly_universe[1]]*5 +\\\n",
    "        [outer_universe] + [assembly_universe[1]]*5\n",
    "\n",
    "ring5 = [assembly_universe[0]]*6\n",
    "ring6 = [assembly_universe[0]]\n",
    "        "
   ]
  },
  {
   "cell_type": "code",
   "execution_count": 15,
   "metadata": {},
   "outputs": [],
   "source": [
    "core_lat.universes = [reflective_ring, ring1, ring2, ring3, ring4, ring5, ring6]"
   ]
  },
  {
   "cell_type": "markdown",
   "metadata": {},
   "source": [
    "#### Create Outside Boundary and Export the Geometry as XML"
   ]
  },
  {
   "cell_type": "code",
   "execution_count": 16,
   "metadata": {},
   "outputs": [],
   "source": [
    "core_region = mc.model.hexagonal_prism(edge_length=110, orientation='y',boundary_type='vacuum')\n",
    "core_cell = mc.Cell(fill=core_lat, region=core_region & -ac_top & +ac_bottom)\n",
    "core_universe = mc.Universe(cells=(core_cell,))"
   ]
  },
  {
   "cell_type": "code",
   "execution_count": 17,
   "metadata": {},
   "outputs": [],
   "source": [
    "geom = mc.Geometry()\n",
    "geom.root_universe = core_universe\n",
    "geom.export_to_xml()"
   ]
  },
  {
   "cell_type": "markdown",
   "metadata": {},
   "source": [
    "### Create Voxel Plot\n",
    "_You can open the produced `coreVoxel.vti` file with any vtk type file viewer such as `ParaView`._  \n",
    "\n",
    "Note: This will create a .h5 file which is converted to .vti using openmc-voxel-to-vtk utility. If  you never used it before or the command is not working try `sudo apt-get install python-vtk` and try again."
   ]
  },
  {
   "cell_type": "code",
   "execution_count": 18,
   "metadata": {},
   "outputs": [
    {
     "name": "stdout",
     "output_type": "stream",
     "text": [
      " Reading cross sections XML file...\n",
      " Reading materials XML file...\n",
      " Reading geometry XML file...\n",
      " Preparing distributed cell instances...\n",
      " Reading plot XML file...\n",
      " WARNING: Color specifications ignored in voxel plot 1\n",
      "\n",
      " =======================>     PLOTTING SUMMARY     <========================\n",
      "\n",
      "Plot ID: 1\n",
      "Plot file: coreVoxel.h5\n",
      "Universe depth: -1\n",
      "Plot Type: Voxel\n",
      "Origin: 0 0 0\n",
      "Width:   20   20  100\n",
      "Coloring: Materials\n",
      "Voxels: 200 200 100\n",
      "\n",
      "Plot ID: 2\n",
      "Plot file: coreSlice.png\n",
      "Universe depth: -1\n",
      "Plot Type: Slice\n",
      "Origin: 0 0 0\n",
      "Width:  220  220\n",
      "Coloring: Materials\n",
      "Basis: XY\n",
      "Pixels: 2000 2000\n",
      "\n",
      " Processing plot 1: coreVoxel.h5...\n",
      " Processing plot 2: coreSlice.png...\n"
     ]
    }
   ],
   "source": [
    "# p_core for voxel plot\n",
    "p_core = mc.Plot()\n",
    "p_core.filename = 'coreVoxel'\n",
    "p_core.color_by = 'material'\n",
    "p_core.show_overlaps = True\n",
    "p_core.type = 'voxel'\n",
    "\n",
    "# here width and pixels are set to visualize approximately the center assembly.\n",
    "# you can increase these values to visualize the whole core\n",
    "p_core.width = (20, 20, 100)\n",
    "p_core.pixels = (200, 200, 100)\n",
    "p_core.depth = 5\n",
    "p_core.highlight_domains(geom, [steel,lbe], seed=1, alpha=0.2, background='white')\n",
    "\n",
    "# core_slice for slice plot of the core\n",
    "core_slice = mc.Plot()\n",
    "core_slice.filename = 'coreSlice'\n",
    "core_slice.color_by = 'material'\n",
    "core_slice.show_overlaps = True\n",
    "core_slice.type = 'slice'\n",
    "core_slice.width = (220, 220)\n",
    "core_slice.pixels = (2000, 2000)\n",
    "core_slice.basis = 'xy'\n",
    "\n",
    "plots = mc.Plots([p_core, core_slice])\n",
    "plots.export_to_xml()\n",
    "\n",
    "mc.plot_geometry()"
   ]
  },
  {
   "cell_type": "code",
   "execution_count": 19,
   "metadata": {},
   "outputs": [
    {
     "name": "stdout",
     "output_type": "stream",
     "text": [
      "Reading and translating data...\r\n",
      "Writing VTK file coreVoxel.vti...\r\n"
     ]
    }
   ],
   "source": [
    "# convert .h5 to .vti file\n",
    "!openmc-voxel-to-vtk coreVoxel.h5 -o coreVoxel.vti"
   ]
  },
  {
   "cell_type": "markdown",
   "metadata": {},
   "source": [
    "### Optional: Visulize Using Paraview and EOG"
   ]
  },
  {
   "cell_type": "code",
   "execution_count": 21,
   "metadata": {},
   "outputs": [],
   "source": [
    "# visualize using paraview and eog (this is not necessary, but it given an idea of how to visualize the plots)\n",
    "# otherwise run these commands on terminal\n",
    "\n",
    "# change Coloring to id and Representation to Surface in paraview\n",
    "!paraview coreVoxel.vti\n",
    "!eog coreSlice.png"
   ]
  },
  {
   "cell_type": "markdown",
   "metadata": {},
   "source": [
    "### Now Just Add Settings and Tallies to Simulate"
   ]
  }
 ],
 "metadata": {
  "kernelspec": {
   "display_name": "Python 3 (ipykernel)",
   "language": "python",
   "name": "python3"
  },
  "language_info": {
   "codemirror_mode": {
    "name": "ipython",
    "version": 3
   },
   "file_extension": ".py",
   "mimetype": "text/x-python",
   "name": "python",
   "nbconvert_exporter": "python",
   "pygments_lexer": "ipython3",
   "version": "3.10.5"
  },
  "vscode": {
   "interpreter": {
    "hash": "55afff2fead72fffb84fc1ad750781e8c1e32f2cbe320bc3794d4050513d6322"
   }
  }
 },
 "nbformat": 4,
 "nbformat_minor": 4
}
